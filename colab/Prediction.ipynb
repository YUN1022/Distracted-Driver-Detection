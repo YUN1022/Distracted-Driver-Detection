{
  "nbformat": 4,
  "nbformat_minor": 0,
  "metadata": {
    "colab": {
      "name": "Prediction.ipynb",
      "provenance": [],
      "collapsed_sections": []
    },
    "kernelspec": {
      "name": "python3",
      "display_name": "Python 3"
    },
    "accelerator": "GPU"
  },
  "cells": [
    {
      "cell_type": "code",
      "metadata": {
        "colab": {
          "base_uri": "https://localhost:8080/"
        },
        "id": "T1q4KXpo68we",
        "outputId": "baef0c9d-fc61-46b7-8023-cd5fff523356"
      },
      "source": [
        "from google.colab import drive\n",
        "\n",
        "drive.mount('/content/gdrive')"
      ],
      "execution_count": null,
      "outputs": [
        {
          "output_type": "stream",
          "text": [
            "Mounted at /content/gdrive\n"
          ],
          "name": "stdout"
        }
      ]
    },
    {
      "cell_type": "code",
      "metadata": {
        "colab": {
          "base_uri": "https://localhost:8080/",
          "height": 35
        },
        "id": "BjwOHp8h7P1J",
        "outputId": "cf885c56-4dcb-421b-b31c-021c18644d04"
      },
      "source": [
        "import os\n",
        "os.chdir('/content/gdrive/MyDrive/DDD')\n",
        "os.getcwd() #查看當前路徑"
      ],
      "execution_count": null,
      "outputs": [
        {
          "output_type": "execute_result",
          "data": {
            "application/vnd.google.colaboratory.intrinsic+json": {
              "type": "string"
            },
            "text/plain": [
              "'/content/gdrive/MyDrive/DDD'"
            ]
          },
          "metadata": {
            "tags": []
          },
          "execution_count": 2
        }
      ]
    },
    {
      "cell_type": "code",
      "metadata": {
        "id": "xo-xGOITBtK5"
      },
      "source": [
        "H5_path = '/content/gdrive/MyDrive/DDD/H5'\n",
        "test_data_path = '/content/gdrive/MyDrive/DDD/test_data'"
      ],
      "execution_count": null,
      "outputs": []
    },
    {
      "cell_type": "code",
      "metadata": {
        "colab": {
          "base_uri": "https://localhost:8080/"
        },
        "id": "6SOgvVJuvCCe",
        "outputId": "d56f5e94-4c54-46f0-f090-508c9bfb8845"
      },
      "source": [
        "import pickle\n",
        "data_image = []\n",
        "\n",
        "for i in range(10):\n",
        "  print('{}%'.format(i*10))\n",
        "  with open(test_data_path+'/image_data'+str(i)+'.pickle','rb') as f:\n",
        "    data_image.extend(pickle.load(f))\n",
        "    f.close()\n",
        "print('100%')"
      ],
      "execution_count": null,
      "outputs": [
        {
          "output_type": "stream",
          "text": [
            "0%\n",
            "10%\n",
            "20%\n",
            "30%\n",
            "40%\n",
            "50%\n",
            "60%\n",
            "70%\n",
            "80%\n",
            "90%\n",
            "100%\n"
          ],
          "name": "stdout"
        }
      ]
    },
    {
      "cell_type": "code",
      "metadata": {
        "colab": {
          "base_uri": "https://localhost:8080/"
        },
        "id": "RFXsFYvBwaGd",
        "outputId": "09198b1f-6b5c-4c0e-b50e-5dafd1daea74"
      },
      "source": [
        "len(data_image)"
      ],
      "execution_count": null,
      "outputs": [
        {
          "output_type": "execute_result",
          "data": {
            "text/plain": [
              "79726"
            ]
          },
          "metadata": {
            "tags": []
          },
          "execution_count": 5
        }
      ]
    },
    {
      "cell_type": "code",
      "metadata": {
        "id": "4cTx2ZRMvoK1"
      },
      "source": [
        "img_name = []\n",
        "img_data = []\n",
        "\n",
        "\n",
        "for name,feature in data_image:\n",
        "  img_name.append(name)\n",
        "  img_data.append(feature)\n",
        "\n",
        "del data_image"
      ],
      "execution_count": null,
      "outputs": []
    },
    {
      "cell_type": "code",
      "metadata": {
        "colab": {
          "base_uri": "https://localhost:8080/"
        },
        "id": "ejlXDA_4zyep",
        "outputId": "9442370c-772e-4194-e013-9e481da15143"
      },
      "source": [
        "import numpy as np\n",
        "\n",
        "# Converting images to nparray\n",
        "img_data = np.array(img_data).reshape(-1,140,140,3)\n",
        "\n",
        "print (img_data.shape)"
      ],
      "execution_count": null,
      "outputs": [
        {
          "output_type": "stream",
          "text": [
            "(79726, 140, 140, 3)\n"
          ],
          "name": "stdout"
        }
      ]
    },
    {
      "cell_type": "code",
      "metadata": {
        "colab": {
          "base_uri": "https://localhost:8080/",
          "height": 35
        },
        "id": "e5kmjvYn9niI",
        "outputId": "b8f5e6d4-cfe3-4f83-c0f6-196b71124642"
      },
      "source": [
        "import tensorflow as tf\n",
        "\n",
        "tf.__version__"
      ],
      "execution_count": null,
      "outputs": [
        {
          "output_type": "execute_result",
          "data": {
            "application/vnd.google.colaboratory.intrinsic+json": {
              "type": "string"
            },
            "text/plain": [
              "'2.4.0'"
            ]
          },
          "metadata": {
            "tags": []
          },
          "execution_count": 8
        }
      ]
    },
    {
      "cell_type": "markdown",
      "metadata": {
        "id": "MLYxoaBXUHb0"
      },
      "source": [
        "#Xception imagenet randomly split"
      ]
    },
    {
      "cell_type": "code",
      "metadata": {
        "colab": {
          "base_uri": "https://localhost:8080/"
        },
        "id": "HjZTPHWN9wUX",
        "outputId": "c3d45d4b-d860-4a7f-e7a4-36dd785ac890"
      },
      "source": [
        "from tensorflow.keras.models import load_model\n",
        "\n",
        "model_a = load_model(H5_path+'/xception_imagenet_randomly_split.h5')\n",
        "model_a.summary()"
      ],
      "execution_count": null,
      "outputs": [
        {
          "output_type": "stream",
          "text": [
            "Model: \"model\"\n",
            "_________________________________________________________________\n",
            "Layer (type)                 Output Shape              Param #   \n",
            "=================================================================\n",
            "Image_Input (InputLayer)     [(None, 140, 140, 3)]     0         \n",
            "_________________________________________________________________\n",
            "xception (Functional)        (None, 5, 5, 2048)        20861480  \n",
            "_________________________________________________________________\n",
            "flatten (Flatten)            (None, 51200)             0         \n",
            "_________________________________________________________________\n",
            "dense (Dense)                (None, 10)                512010    \n",
            "=================================================================\n",
            "Total params: 21,373,490\n",
            "Trainable params: 21,318,962\n",
            "Non-trainable params: 54,528\n",
            "_________________________________________________________________\n"
          ],
          "name": "stdout"
        }
      ]
    },
    {
      "cell_type": "code",
      "metadata": {
        "id": "w1R9ovHu1Fmx"
      },
      "source": [
        "prediction = model_a.predict(img_data)"
      ],
      "execution_count": null,
      "outputs": []
    },
    {
      "cell_type": "code",
      "metadata": {
        "colab": {
          "base_uri": "https://localhost:8080/"
        },
        "id": "vVK-DZbz2iiw",
        "outputId": "03aae176-51eb-4f29-9bcc-4a47ea9f2133"
      },
      "source": [
        "prediction[0]"
      ],
      "execution_count": null,
      "outputs": [
        {
          "output_type": "execute_result",
          "data": {
            "text/plain": [
              "array([6.8254160e-17, 9.7126320e-20, 7.2424010e-17, 1.9366944e-14,\n",
              "       1.4640178e-13, 1.0000000e+00, 4.9747176e-18, 6.8168256e-18,\n",
              "       1.6307622e-16, 7.8383180e-16], dtype=float32)"
            ]
          },
          "metadata": {
            "tags": []
          },
          "execution_count": 16
        }
      ]
    },
    {
      "cell_type": "code",
      "metadata": {
        "colab": {
          "base_uri": "https://localhost:8080/"
        },
        "id": "m-BcndnBFOd6",
        "outputId": "67b85030-073c-4b74-a3b2-d4de6666858a"
      },
      "source": [
        "len(prediction)"
      ],
      "execution_count": null,
      "outputs": [
        {
          "output_type": "execute_result",
          "data": {
            "text/plain": [
              "79726"
            ]
          },
          "metadata": {
            "tags": []
          },
          "execution_count": 75
        }
      ]
    },
    {
      "cell_type": "code",
      "metadata": {
        "id": "xgsr4Z6fSaIs"
      },
      "source": [
        "import pandas as pd\n",
        "df = pd.DataFrame({\n",
        "    'img':img_name,\n",
        "    'c0':[prediction[x][0] for x in range(len(prediction))],\n",
        "    'c1':[prediction[x][1] for x in range(len(prediction))],\n",
        "    'c2':[prediction[x][2] for x in range(len(prediction))],\n",
        "    'c3':[prediction[x][3] for x in range(len(prediction))],\n",
        "    'c4':[prediction[x][4] for x in range(len(prediction))],\n",
        "    'c5':[prediction[x][5] for x in range(len(prediction))],\n",
        "    'c6':[prediction[x][6] for x in range(len(prediction))],\n",
        "    'c7':[prediction[x][7] for x in range(len(prediction))],\n",
        "    'c8':[prediction[x][8] for x in range(len(prediction))],\n",
        "    'c9':[prediction[x][9] for x in range(len(prediction))],\n",
        "    })"
      ],
      "execution_count": null,
      "outputs": []
    },
    {
      "cell_type": "code",
      "metadata": {
        "colab": {
          "base_uri": "https://localhost:8080/",
          "height": 419
        },
        "id": "jbjrjvGFSvIz",
        "outputId": "245ad066-196d-49bc-db3b-ada59fcf2a4a"
      },
      "source": [
        "df"
      ],
      "execution_count": null,
      "outputs": [
        {
          "output_type": "execute_result",
          "data": {
            "text/html": [
              "<div>\n",
              "<style scoped>\n",
              "    .dataframe tbody tr th:only-of-type {\n",
              "        vertical-align: middle;\n",
              "    }\n",
              "\n",
              "    .dataframe tbody tr th {\n",
              "        vertical-align: top;\n",
              "    }\n",
              "\n",
              "    .dataframe thead th {\n",
              "        text-align: right;\n",
              "    }\n",
              "</style>\n",
              "<table border=\"1\" class=\"dataframe\">\n",
              "  <thead>\n",
              "    <tr style=\"text-align: right;\">\n",
              "      <th></th>\n",
              "      <th>img</th>\n",
              "      <th>c0</th>\n",
              "      <th>c1</th>\n",
              "      <th>c2</th>\n",
              "      <th>c3</th>\n",
              "      <th>c4</th>\n",
              "      <th>c5</th>\n",
              "      <th>c6</th>\n",
              "      <th>c7</th>\n",
              "      <th>c8</th>\n",
              "      <th>c9</th>\n",
              "    </tr>\n",
              "  </thead>\n",
              "  <tbody>\n",
              "    <tr>\n",
              "      <th>0</th>\n",
              "      <td>img_1.jpg</td>\n",
              "      <td>6.825416e-17</td>\n",
              "      <td>9.712632e-20</td>\n",
              "      <td>7.242401e-17</td>\n",
              "      <td>1.936694e-14</td>\n",
              "      <td>1.464018e-13</td>\n",
              "      <td>1.000000e+00</td>\n",
              "      <td>4.974718e-18</td>\n",
              "      <td>6.816826e-18</td>\n",
              "      <td>1.630762e-16</td>\n",
              "      <td>7.838318e-16</td>\n",
              "    </tr>\n",
              "    <tr>\n",
              "      <th>1</th>\n",
              "      <td>img_10.jpg</td>\n",
              "      <td>5.538122e-21</td>\n",
              "      <td>1.531553e-27</td>\n",
              "      <td>6.169198e-22</td>\n",
              "      <td>1.105699e-18</td>\n",
              "      <td>3.205806e-21</td>\n",
              "      <td>1.000000e+00</td>\n",
              "      <td>2.051357e-24</td>\n",
              "      <td>1.194601e-26</td>\n",
              "      <td>5.412677e-22</td>\n",
              "      <td>6.385346e-19</td>\n",
              "    </tr>\n",
              "    <tr>\n",
              "      <th>2</th>\n",
              "      <td>img_100.jpg</td>\n",
              "      <td>7.457302e-01</td>\n",
              "      <td>1.133088e-01</td>\n",
              "      <td>2.249511e-03</td>\n",
              "      <td>2.056419e-02</td>\n",
              "      <td>5.249304e-03</td>\n",
              "      <td>1.765279e-02</td>\n",
              "      <td>5.787871e-04</td>\n",
              "      <td>6.856779e-02</td>\n",
              "      <td>2.111750e-02</td>\n",
              "      <td>4.981144e-03</td>\n",
              "    </tr>\n",
              "    <tr>\n",
              "      <th>3</th>\n",
              "      <td>img_1000.jpg</td>\n",
              "      <td>5.308121e-13</td>\n",
              "      <td>1.778541e-12</td>\n",
              "      <td>1.302276e-13</td>\n",
              "      <td>3.323795e-14</td>\n",
              "      <td>1.321322e-11</td>\n",
              "      <td>2.950474e-12</td>\n",
              "      <td>7.658262e-12</td>\n",
              "      <td>2.505641e-11</td>\n",
              "      <td>9.999979e-01</td>\n",
              "      <td>2.132994e-06</td>\n",
              "    </tr>\n",
              "    <tr>\n",
              "      <th>4</th>\n",
              "      <td>img_100000.jpg</td>\n",
              "      <td>3.683923e-14</td>\n",
              "      <td>9.675818e-16</td>\n",
              "      <td>1.009463e-15</td>\n",
              "      <td>9.999999e-01</td>\n",
              "      <td>7.400159e-10</td>\n",
              "      <td>9.368097e-08</td>\n",
              "      <td>4.234389e-19</td>\n",
              "      <td>6.636891e-21</td>\n",
              "      <td>1.593746e-15</td>\n",
              "      <td>5.650730e-15</td>\n",
              "    </tr>\n",
              "    <tr>\n",
              "      <th>...</th>\n",
              "      <td>...</td>\n",
              "      <td>...</td>\n",
              "      <td>...</td>\n",
              "      <td>...</td>\n",
              "      <td>...</td>\n",
              "      <td>...</td>\n",
              "      <td>...</td>\n",
              "      <td>...</td>\n",
              "      <td>...</td>\n",
              "      <td>...</td>\n",
              "      <td>...</td>\n",
              "    </tr>\n",
              "    <tr>\n",
              "      <th>79721</th>\n",
              "      <td>img_99994.jpg</td>\n",
              "      <td>1.191550e-04</td>\n",
              "      <td>9.998479e-01</td>\n",
              "      <td>1.952603e-05</td>\n",
              "      <td>2.218721e-07</td>\n",
              "      <td>4.776892e-07</td>\n",
              "      <td>1.839202e-07</td>\n",
              "      <td>3.390454e-06</td>\n",
              "      <td>1.810170e-07</td>\n",
              "      <td>7.813926e-06</td>\n",
              "      <td>1.021975e-06</td>\n",
              "    </tr>\n",
              "    <tr>\n",
              "      <th>79722</th>\n",
              "      <td>img_99995.jpg</td>\n",
              "      <td>2.790742e-10</td>\n",
              "      <td>2.535506e-09</td>\n",
              "      <td>1.123596e-10</td>\n",
              "      <td>9.999969e-01</td>\n",
              "      <td>3.039981e-06</td>\n",
              "      <td>4.799302e-08</td>\n",
              "      <td>2.080447e-11</td>\n",
              "      <td>5.166039e-14</td>\n",
              "      <td>1.255382e-09</td>\n",
              "      <td>4.130836e-09</td>\n",
              "    </tr>\n",
              "    <tr>\n",
              "      <th>79723</th>\n",
              "      <td>img_99996.jpg</td>\n",
              "      <td>1.008966e-05</td>\n",
              "      <td>1.417141e-07</td>\n",
              "      <td>7.962524e-05</td>\n",
              "      <td>2.226443e-05</td>\n",
              "      <td>9.996650e-01</td>\n",
              "      <td>1.739558e-06</td>\n",
              "      <td>5.198840e-05</td>\n",
              "      <td>1.861681e-07</td>\n",
              "      <td>1.627358e-04</td>\n",
              "      <td>6.180724e-06</td>\n",
              "    </tr>\n",
              "    <tr>\n",
              "      <th>79724</th>\n",
              "      <td>img_99998.jpg</td>\n",
              "      <td>2.542163e-12</td>\n",
              "      <td>2.052089e-12</td>\n",
              "      <td>7.620387e-10</td>\n",
              "      <td>2.548297e-14</td>\n",
              "      <td>2.822212e-08</td>\n",
              "      <td>7.319178e-14</td>\n",
              "      <td>1.000000e+00</td>\n",
              "      <td>3.785903e-13</td>\n",
              "      <td>9.074604e-09</td>\n",
              "      <td>7.263269e-15</td>\n",
              "    </tr>\n",
              "    <tr>\n",
              "      <th>79725</th>\n",
              "      <td>img_99999.jpg</td>\n",
              "      <td>1.714426e-03</td>\n",
              "      <td>6.614142e-04</td>\n",
              "      <td>3.006834e-04</td>\n",
              "      <td>1.816319e-03</td>\n",
              "      <td>4.354779e-04</td>\n",
              "      <td>9.737253e-01</td>\n",
              "      <td>2.533689e-04</td>\n",
              "      <td>2.621739e-04</td>\n",
              "      <td>1.736876e-02</td>\n",
              "      <td>3.462048e-03</td>\n",
              "    </tr>\n",
              "  </tbody>\n",
              "</table>\n",
              "<p>79726 rows × 11 columns</p>\n",
              "</div>"
            ],
            "text/plain": [
              "                  img            c0  ...            c8            c9\n",
              "0           img_1.jpg  6.825416e-17  ...  1.630762e-16  7.838318e-16\n",
              "1          img_10.jpg  5.538122e-21  ...  5.412677e-22  6.385346e-19\n",
              "2         img_100.jpg  7.457302e-01  ...  2.111750e-02  4.981144e-03\n",
              "3        img_1000.jpg  5.308121e-13  ...  9.999979e-01  2.132994e-06\n",
              "4      img_100000.jpg  3.683923e-14  ...  1.593746e-15  5.650730e-15\n",
              "...               ...           ...  ...           ...           ...\n",
              "79721   img_99994.jpg  1.191550e-04  ...  7.813926e-06  1.021975e-06\n",
              "79722   img_99995.jpg  2.790742e-10  ...  1.255382e-09  4.130836e-09\n",
              "79723   img_99996.jpg  1.008966e-05  ...  1.627358e-04  6.180724e-06\n",
              "79724   img_99998.jpg  2.542163e-12  ...  9.074604e-09  7.263269e-15\n",
              "79725   img_99999.jpg  1.714426e-03  ...  1.736876e-02  3.462048e-03\n",
              "\n",
              "[79726 rows x 11 columns]"
            ]
          },
          "metadata": {
            "tags": []
          },
          "execution_count": 128
        }
      ]
    },
    {
      "cell_type": "code",
      "metadata": {
        "id": "e6nMfB3qUbl0"
      },
      "source": [
        "df.to_csv('submission.csv')"
      ],
      "execution_count": null,
      "outputs": []
    },
    {
      "cell_type": "markdown",
      "metadata": {
        "id": "C75yYBivURAW"
      },
      "source": [
        "#InceptionV3 imagenet randomly split"
      ]
    },
    {
      "cell_type": "code",
      "metadata": {
        "colab": {
          "base_uri": "https://localhost:8080/"
        },
        "id": "Gi9GRQ0CUQFT",
        "outputId": "842eca43-695d-4989-d419-ba1be5afc65a"
      },
      "source": [
        "from tensorflow.keras.models import load_model\n",
        "\n",
        "model = load_model(H5_path+'/inceptionV3_imagenet_randly_split.h5')\n",
        "model.summary()"
      ],
      "execution_count": null,
      "outputs": [
        {
          "output_type": "stream",
          "text": [
            "Model: \"model\"\n",
            "_________________________________________________________________\n",
            "Layer (type)                 Output Shape              Param #   \n",
            "=================================================================\n",
            "Image_Input (InputLayer)     [(None, 140, 140, 3)]     0         \n",
            "_________________________________________________________________\n",
            "inception_v3 (Functional)    (None, 3, 3, 2048)        21802784  \n",
            "_________________________________________________________________\n",
            "flatten (Flatten)            (None, 18432)             0         \n",
            "_________________________________________________________________\n",
            "dense (Dense)                (None, 10)                184330    \n",
            "=================================================================\n",
            "Total params: 21,987,114\n",
            "Trainable params: 21,952,682\n",
            "Non-trainable params: 34,432\n",
            "_________________________________________________________________\n"
          ],
          "name": "stdout"
        }
      ]
    },
    {
      "cell_type": "code",
      "metadata": {
        "id": "Brhb5ieSUeC9"
      },
      "source": [
        "prediction = model.predict(img_data)"
      ],
      "execution_count": null,
      "outputs": []
    },
    {
      "cell_type": "code",
      "metadata": {
        "colab": {
          "base_uri": "https://localhost:8080/"
        },
        "id": "SB-FE2t7Un37",
        "outputId": "7e319f8f-dfc1-4d92-d21b-ebb9d915197a"
      },
      "source": [
        "prediction[0]"
      ],
      "execution_count": null,
      "outputs": [
        {
          "output_type": "execute_result",
          "data": {
            "text/plain": [
              "array([4.5717599e-07, 2.9175792e-08, 3.0916908e-07, 3.3995855e-07,\n",
              "       1.5007424e-05, 9.9997854e-01, 1.3127135e-07, 9.8523067e-08,\n",
              "       3.6479466e-07, 4.6810219e-06], dtype=float32)"
            ]
          },
          "metadata": {
            "tags": []
          },
          "execution_count": 11
        }
      ]
    },
    {
      "cell_type": "code",
      "metadata": {
        "colab": {
          "base_uri": "https://localhost:8080/"
        },
        "id": "sZD2fwusUr5T",
        "outputId": "7ae724aa-42db-4d1b-8036-884197fcd130"
      },
      "source": [
        "len(prediction)"
      ],
      "execution_count": null,
      "outputs": [
        {
          "output_type": "execute_result",
          "data": {
            "text/plain": [
              "79726"
            ]
          },
          "metadata": {
            "tags": []
          },
          "execution_count": 12
        }
      ]
    },
    {
      "cell_type": "code",
      "metadata": {
        "id": "zKrDdO10Ut-N"
      },
      "source": [
        "import pandas as pd\n",
        "df = pd.DataFrame({\n",
        "    'img':img_name,\n",
        "    'c0':[prediction[x][0] for x in range(len(prediction))],\n",
        "    'c1':[prediction[x][1] for x in range(len(prediction))],\n",
        "    'c2':[prediction[x][2] for x in range(len(prediction))],\n",
        "    'c3':[prediction[x][3] for x in range(len(prediction))],\n",
        "    'c4':[prediction[x][4] for x in range(len(prediction))],\n",
        "    'c5':[prediction[x][5] for x in range(len(prediction))],\n",
        "    'c6':[prediction[x][6] for x in range(len(prediction))],\n",
        "    'c7':[prediction[x][7] for x in range(len(prediction))],\n",
        "    'c8':[prediction[x][8] for x in range(len(prediction))],\n",
        "    'c9':[prediction[x][9] for x in range(len(prediction))],\n",
        "    })"
      ],
      "execution_count": null,
      "outputs": []
    },
    {
      "cell_type": "code",
      "metadata": {
        "id": "stOJpdHCUv2c"
      },
      "source": [
        "df.to_csv('submission_f.csv',index=False)"
      ],
      "execution_count": null,
      "outputs": []
    },
    {
      "cell_type": "markdown",
      "metadata": {
        "id": "lHDYKICcXLol"
      },
      "source": [
        "#Xception imagenet split on subject"
      ]
    },
    {
      "cell_type": "code",
      "metadata": {
        "colab": {
          "base_uri": "https://localhost:8080/"
        },
        "id": "kWy6whW6XCtR",
        "outputId": "4f401301-e25a-4c96-9ba9-73f63e7299d2"
      },
      "source": [
        "from tensorflow.keras.models import load_model\n",
        "\n",
        "model = load_model(H5_path+'/xception_imagenet_split_on_subject.h5')\n",
        "model.summary()"
      ],
      "execution_count": null,
      "outputs": [
        {
          "output_type": "stream",
          "text": [
            "Model: \"model\"\n",
            "_________________________________________________________________\n",
            "Layer (type)                 Output Shape              Param #   \n",
            "=================================================================\n",
            "Image_Input (InputLayer)     [(None, 140, 140, 3)]     0         \n",
            "_________________________________________________________________\n",
            "xception (Functional)        (None, 5, 5, 2048)        20861480  \n",
            "_________________________________________________________________\n",
            "flatten (Flatten)            (None, 51200)             0         \n",
            "_________________________________________________________________\n",
            "dense (Dense)                (None, 10)                512010    \n",
            "=================================================================\n",
            "Total params: 21,373,490\n",
            "Trainable params: 21,318,962\n",
            "Non-trainable params: 54,528\n",
            "_________________________________________________________________\n"
          ],
          "name": "stdout"
        }
      ]
    },
    {
      "cell_type": "code",
      "metadata": {
        "id": "QaP6S8h-XCtb"
      },
      "source": [
        "prediction = model.predict(img_data)"
      ],
      "execution_count": null,
      "outputs": []
    },
    {
      "cell_type": "code",
      "metadata": {
        "colab": {
          "base_uri": "https://localhost:8080/"
        },
        "id": "jtsKqRRwXCtc",
        "outputId": "5a945414-72bd-4765-ba94-815d6376c7fb"
      },
      "source": [
        "prediction[0]"
      ],
      "execution_count": null,
      "outputs": [
        {
          "output_type": "execute_result",
          "data": {
            "text/plain": [
              "array([1.0652469e-09, 7.4964923e-10, 1.8834193e-11, 5.8833904e-10,\n",
              "       2.8504074e-08, 9.9999976e-01, 6.5402871e-11, 1.1545345e-08,\n",
              "       5.8682081e-09, 2.9117305e-07], dtype=float32)"
            ]
          },
          "metadata": {
            "tags": []
          },
          "execution_count": 17
        }
      ]
    },
    {
      "cell_type": "code",
      "metadata": {
        "colab": {
          "base_uri": "https://localhost:8080/"
        },
        "id": "Z_pX_TzmXCtc",
        "outputId": "09fa5de2-22bc-43c2-f5d2-0338af43e100"
      },
      "source": [
        "len(prediction)"
      ],
      "execution_count": null,
      "outputs": [
        {
          "output_type": "execute_result",
          "data": {
            "text/plain": [
              "79726"
            ]
          },
          "metadata": {
            "tags": []
          },
          "execution_count": 18
        }
      ]
    },
    {
      "cell_type": "code",
      "metadata": {
        "id": "CKPSzvw1XCtd"
      },
      "source": [
        "import pandas as pd\n",
        "df = pd.DataFrame({\n",
        "    'img':img_name,\n",
        "    'c0':[prediction[x][0] for x in range(len(prediction))],\n",
        "    'c1':[prediction[x][1] for x in range(len(prediction))],\n",
        "    'c2':[prediction[x][2] for x in range(len(prediction))],\n",
        "    'c3':[prediction[x][3] for x in range(len(prediction))],\n",
        "    'c4':[prediction[x][4] for x in range(len(prediction))],\n",
        "    'c5':[prediction[x][5] for x in range(len(prediction))],\n",
        "    'c6':[prediction[x][6] for x in range(len(prediction))],\n",
        "    'c7':[prediction[x][7] for x in range(len(prediction))],\n",
        "    'c8':[prediction[x][8] for x in range(len(prediction))],\n",
        "    'c9':[prediction[x][9] for x in range(len(prediction))],\n",
        "    })"
      ],
      "execution_count": null,
      "outputs": []
    },
    {
      "cell_type": "code",
      "metadata": {
        "id": "ns1pUGGZXCtd"
      },
      "source": [
        "df.to_csv('submission_c.csv',index=False)"
      ],
      "execution_count": null,
      "outputs": []
    },
    {
      "cell_type": "markdown",
      "metadata": {
        "id": "Z-TZCTGWYjw-"
      },
      "source": [
        "#InceptionV3 imagenet split on subject\n"
      ]
    },
    {
      "cell_type": "code",
      "metadata": {
        "colab": {
          "base_uri": "https://localhost:8080/"
        },
        "id": "AOfNSKJAYuoL",
        "outputId": "5bc68fe6-7f55-4d11-9aac-d3d0bb875d02"
      },
      "source": [
        "from tensorflow.keras.models import load_model\n",
        "\n",
        "model = load_model(H5_path+'/inceptionV3_imagenet_split_on_subject.h5')\n",
        "model.summary()"
      ],
      "execution_count": null,
      "outputs": [
        {
          "output_type": "stream",
          "text": [
            "Model: \"model\"\n",
            "_________________________________________________________________\n",
            "Layer (type)                 Output Shape              Param #   \n",
            "=================================================================\n",
            "Image_Input (InputLayer)     [(None, 140, 140, 3)]     0         \n",
            "_________________________________________________________________\n",
            "inception_v3 (Functional)    (None, 3, 3, 2048)        21802784  \n",
            "_________________________________________________________________\n",
            "flatten_1 (Flatten)          (None, 18432)             0         \n",
            "_________________________________________________________________\n",
            "dense_1 (Dense)              (None, 10)                184330    \n",
            "=================================================================\n",
            "Total params: 21,987,114\n",
            "Trainable params: 21,952,682\n",
            "Non-trainable params: 34,432\n",
            "_________________________________________________________________\n"
          ],
          "name": "stdout"
        }
      ]
    },
    {
      "cell_type": "code",
      "metadata": {
        "colab": {
          "base_uri": "https://localhost:8080/"
        },
        "id": "cM0fZjAkYxj_",
        "outputId": "29cc0b8d-c570-414c-de3e-322ffa96d047"
      },
      "source": [
        "prediction = model.predict(img_data)\n",
        "prediction[0]"
      ],
      "execution_count": null,
      "outputs": [
        {
          "output_type": "execute_result",
          "data": {
            "text/plain": [
              "array([4.7034018e-07, 5.8138799e-10, 7.4945206e-09, 2.0901902e-10,\n",
              "       1.8192382e-09, 9.9999940e-01, 4.4911662e-08, 5.5162244e-09,\n",
              "       2.4363619e-08, 6.4503539e-08], dtype=float32)"
            ]
          },
          "metadata": {
            "tags": []
          },
          "execution_count": 32
        }
      ]
    },
    {
      "cell_type": "code",
      "metadata": {
        "colab": {
          "base_uri": "https://localhost:8080/"
        },
        "id": "FWMz20ClY0g-",
        "outputId": "03564bda-5353-45b7-bbde-021cb02d6134"
      },
      "source": [
        "len(prediction)"
      ],
      "execution_count": null,
      "outputs": [
        {
          "output_type": "execute_result",
          "data": {
            "text/plain": [
              "79726"
            ]
          },
          "metadata": {
            "tags": []
          },
          "execution_count": 33
        }
      ]
    },
    {
      "cell_type": "code",
      "metadata": {
        "id": "FEJ5GTdjY2gV"
      },
      "source": [
        "import pandas as pd\n",
        "df = pd.DataFrame({\n",
        "    'img':img_name,\n",
        "    'c0':[prediction[x][0] for x in range(len(prediction))],\n",
        "    'c1':[prediction[x][1] for x in range(len(prediction))],\n",
        "    'c2':[prediction[x][2] for x in range(len(prediction))],\n",
        "    'c3':[prediction[x][3] for x in range(len(prediction))],\n",
        "    'c4':[prediction[x][4] for x in range(len(prediction))],\n",
        "    'c5':[prediction[x][5] for x in range(len(prediction))],\n",
        "    'c6':[prediction[x][6] for x in range(len(prediction))],\n",
        "    'c7':[prediction[x][7] for x in range(len(prediction))],\n",
        "    'c8':[prediction[x][8] for x in range(len(prediction))],\n",
        "    'c9':[prediction[x][9] for x in range(len(prediction))],\n",
        "    })\n",
        "df.to_csv('submission_d.csv',index=False)"
      ],
      "execution_count": null,
      "outputs": []
    },
    {
      "cell_type": "markdown",
      "metadata": {
        "id": "wSMizWYWZntF"
      },
      "source": [
        "#Xception Random split on subject"
      ]
    },
    {
      "cell_type": "code",
      "metadata": {
        "colab": {
          "base_uri": "https://localhost:8080/"
        },
        "id": "Fjla3N14ZnLO",
        "outputId": "236455b2-e687-45b6-dfc0-4bb9711d303e"
      },
      "source": [
        "from tensorflow.keras.models import load_model\n",
        "\n",
        "model = load_model(H5_path+'/xception_random_initialization_split_on_subject.h5')\n",
        "model.summary()"
      ],
      "execution_count": null,
      "outputs": [
        {
          "output_type": "stream",
          "text": [
            "Model: \"model\"\n",
            "_________________________________________________________________\n",
            "Layer (type)                 Output Shape              Param #   \n",
            "=================================================================\n",
            "Image_Input (InputLayer)     [(None, 140, 140, 3)]     0         \n",
            "_________________________________________________________________\n",
            "xception (Functional)        (None, 5, 5, 2048)        20861480  \n",
            "_________________________________________________________________\n",
            "flatten (Flatten)            (None, 51200)             0         \n",
            "_________________________________________________________________\n",
            "dense (Dense)                (None, 10)                512010    \n",
            "=================================================================\n",
            "Total params: 21,373,490\n",
            "Trainable params: 21,318,962\n",
            "Non-trainable params: 54,528\n",
            "_________________________________________________________________\n"
          ],
          "name": "stdout"
        }
      ]
    },
    {
      "cell_type": "code",
      "metadata": {
        "colab": {
          "base_uri": "https://localhost:8080/"
        },
        "id": "SF1ad3ccZxk3",
        "outputId": "9bf18f47-3836-4564-cc92-7400dcf63d85"
      },
      "source": [
        "prediction = model.predict(img_data)\n",
        "prediction[0]"
      ],
      "execution_count": null,
      "outputs": [
        {
          "output_type": "execute_result",
          "data": {
            "text/plain": [
              "array([2.3318634e-04, 4.9037725e-04, 7.2192303e-03, 2.7758260e-03,\n",
              "       5.1088881e-04, 9.7682434e-01, 9.8394731e-04, 7.9262936e-03,\n",
              "       1.4735687e-04, 2.8885405e-03], dtype=float32)"
            ]
          },
          "metadata": {
            "tags": []
          },
          "execution_count": 36
        }
      ]
    },
    {
      "cell_type": "code",
      "metadata": {
        "colab": {
          "base_uri": "https://localhost:8080/"
        },
        "id": "qjZywZKqZzMm",
        "outputId": "e0d7768a-76fb-4c9d-b57b-31b2cebf590c"
      },
      "source": [
        "len(prediction)"
      ],
      "execution_count": null,
      "outputs": [
        {
          "output_type": "execute_result",
          "data": {
            "text/plain": [
              "79726"
            ]
          },
          "metadata": {
            "tags": []
          },
          "execution_count": 37
        }
      ]
    },
    {
      "cell_type": "code",
      "metadata": {
        "id": "bRyQYlyvZ0nK"
      },
      "source": [
        "import pandas as pd\n",
        "df = pd.DataFrame({\n",
        "    'img':img_name,\n",
        "    'c0':[prediction[x][0] for x in range(len(prediction))],\n",
        "    'c1':[prediction[x][1] for x in range(len(prediction))],\n",
        "    'c2':[prediction[x][2] for x in range(len(prediction))],\n",
        "    'c3':[prediction[x][3] for x in range(len(prediction))],\n",
        "    'c4':[prediction[x][4] for x in range(len(prediction))],\n",
        "    'c5':[prediction[x][5] for x in range(len(prediction))],\n",
        "    'c6':[prediction[x][6] for x in range(len(prediction))],\n",
        "    'c7':[prediction[x][7] for x in range(len(prediction))],\n",
        "    'c8':[prediction[x][8] for x in range(len(prediction))],\n",
        "    'c9':[prediction[x][9] for x in range(len(prediction))],\n",
        "    })\n",
        "df.to_csv('submission_a.csv',index=False)"
      ],
      "execution_count": null,
      "outputs": []
    },
    {
      "cell_type": "markdown",
      "metadata": {
        "id": "0kBkJsWocny_"
      },
      "source": [
        "#InceptionV3 Random split on subject"
      ]
    },
    {
      "cell_type": "code",
      "metadata": {
        "colab": {
          "base_uri": "https://localhost:8080/"
        },
        "id": "dbjY9HtzctJm",
        "outputId": "74cbaaa6-c19f-460b-ad60-1896343e9a56"
      },
      "source": [
        "from tensorflow.keras.models import load_model\n",
        "\n",
        "model = load_model(H5_path+'/inceptionV3_random_initialization_split_on_subject.h5')\n",
        "model.summary()"
      ],
      "execution_count": null,
      "outputs": [
        {
          "output_type": "stream",
          "text": [
            "Model: \"model\"\n",
            "_________________________________________________________________\n",
            "Layer (type)                 Output Shape              Param #   \n",
            "=================================================================\n",
            "Image_Input (InputLayer)     [(None, 140, 140, 3)]     0         \n",
            "_________________________________________________________________\n",
            "inception_v3 (Functional)    (None, 3, 3, 2048)        21802784  \n",
            "_________________________________________________________________\n",
            "flatten (Flatten)            (None, 18432)             0         \n",
            "_________________________________________________________________\n",
            "dense (Dense)                (None, 10)                184330    \n",
            "=================================================================\n",
            "Total params: 21,987,114\n",
            "Trainable params: 21,952,682\n",
            "Non-trainable params: 34,432\n",
            "_________________________________________________________________\n"
          ],
          "name": "stdout"
        }
      ]
    },
    {
      "cell_type": "code",
      "metadata": {
        "colab": {
          "base_uri": "https://localhost:8080/"
        },
        "id": "5YwcQ6TAcvcu",
        "outputId": "75d51bf6-0c6c-4c15-93ec-11263ad43b45"
      },
      "source": [
        "prediction = model.predict(img_data)\n",
        "prediction[0]"
      ],
      "execution_count": null,
      "outputs": [
        {
          "output_type": "execute_result",
          "data": {
            "text/plain": [
              "array([6.9703710e-06, 2.2570846e-07, 2.0104682e-05, 7.0223774e-07,\n",
              "       6.1020609e-07, 7.7495128e-01, 2.0212124e-07, 2.5607497e-04,\n",
              "       1.2539711e-04, 2.2463845e-01], dtype=float32)"
            ]
          },
          "metadata": {
            "tags": []
          },
          "execution_count": 40
        }
      ]
    },
    {
      "cell_type": "code",
      "metadata": {
        "colab": {
          "base_uri": "https://localhost:8080/"
        },
        "id": "6EQODNYhcxmO",
        "outputId": "528da150-5868-493b-8b1d-99fb9310b01e"
      },
      "source": [
        "len(prediction)"
      ],
      "execution_count": null,
      "outputs": [
        {
          "output_type": "execute_result",
          "data": {
            "text/plain": [
              "79726"
            ]
          },
          "metadata": {
            "tags": []
          },
          "execution_count": 41
        }
      ]
    },
    {
      "cell_type": "code",
      "metadata": {
        "id": "geBo-DOnczhR"
      },
      "source": [
        "import pandas as pd\n",
        "df = pd.DataFrame({\n",
        "    'img':img_name,\n",
        "    'c0':[prediction[x][0] for x in range(len(prediction))],\n",
        "    'c1':[prediction[x][1] for x in range(len(prediction))],\n",
        "    'c2':[prediction[x][2] for x in range(len(prediction))],\n",
        "    'c3':[prediction[x][3] for x in range(len(prediction))],\n",
        "    'c4':[prediction[x][4] for x in range(len(prediction))],\n",
        "    'c5':[prediction[x][5] for x in range(len(prediction))],\n",
        "    'c6':[prediction[x][6] for x in range(len(prediction))],\n",
        "    'c7':[prediction[x][7] for x in range(len(prediction))],\n",
        "    'c8':[prediction[x][8] for x in range(len(prediction))],\n",
        "    'c9':[prediction[x][9] for x in range(len(prediction))],\n",
        "    })\n",
        "df.to_csv('submission_b.csv',index=False)"
      ],
      "execution_count": null,
      "outputs": []
    }
  ]
}