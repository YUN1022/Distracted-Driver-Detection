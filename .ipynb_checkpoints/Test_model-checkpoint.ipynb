{
 "cells": [
  {
   "cell_type": "code",
   "execution_count": 1,
   "metadata": {},
   "outputs": [],
   "source": [
    "import pandas as pd\n",
    "import os, shutil\n",
    "import cv2\n",
    "import time\n",
    "base_dir = 'D:\\Final\\code\\LAB\\keras\\Distracted Driver Detection\\imgs'"
   ]
  },
  {
   "cell_type": "code",
   "execution_count": 2,
   "metadata": {},
   "outputs": [
    {
     "data": {
      "text/plain": [
       "79726"
      ]
     },
     "execution_count": 2,
     "metadata": {},
     "output_type": "execute_result"
    }
   ],
   "source": [
    "imgs = os.listdir(base_dir+\"/test\")\n",
    "len(imgs)"
   ]
  },
  {
   "cell_type": "code",
   "execution_count": null,
   "metadata": {},
   "outputs": [],
   "source": [
    "import multiprocessing as mp\n",
    "\n",
    "def job(data):\n",
    "    temp = []\n",
    "    for i in range(len(data)):\n",
    "        img_name = base_dir+\"/test/\"+imgs[i]\n",
    "        img = cv2.imread(img_name)\n",
    "        img = img[:,120:-30]\n",
    "        img = cv2.resize(img,(140,140))\n",
    "        temp.append(img)\n",
    "    return temp\n",
    "\n",
    "if __name__ == '__main__':\n",
    "\n",
    "    train_image = []\n",
    "    imgs = os.listdir(base_dir+\"/test\")\n",
    "\n",
    "    pool = mp.Pool(6)\n",
    "    res = pool.map(job,imgs[:1000])\n",
    "\n",
    "    print(res)"
   ]
  },
  {
   "cell_type": "code",
   "execution_count": null,
   "metadata": {},
   "outputs": [],
   "source": [
    "train_image = []\n",
    "imgs = os.listdir(base_dir+\"/test\")\n",
    "\n",
    "t0=time.time()\n",
    "\n",
    "for i in range(len(imgs)//770):\n",
    "    img_name = base_dir+\"/test/\"+imgs[i]\n",
    "    img = cv2.imread(img_name)\n",
    "    img = img[:,120:-30]\n",
    "    img = cv2.resize(img,(140,140))\n",
    "    train_image.append(img)\n",
    "\n",
    "t1=time.time()\n",
    "print(t1-t0)"
   ]
  },
  {
   "cell_type": "code",
   "execution_count": null,
   "metadata": {},
   "outputs": [],
   "source": [
    "train_image = []\n",
    "\n",
    "for i in \n",
    "\n",
    "\n",
    "for i in range(10):\n",
    "    print('folder C',i)\n",
    "    imgs = os.listdir(base_dir+\"/train/c\"+str(i))\n",
    "    for j in range(len(imgs)):\n",
    "        img_name = base_dir+\"/train/c\"+str(i)+\"/\"+imgs[j]\n",
    "        img = cv2.imread(img_name)\n",
    "        img = img[:,120:-30] # Cropping:去掉部分左邊和右邊一點點\n",
    "        img = cv2.resize(img,(140,140)) # Resizing\n",
    "        label = i\n",
    "        driver = str(driver_details[driver_details['img'] == imgs[j]]['subject'].values[0])\n",
    "        train_image.append([img,label,driver])\n",
    "        image_label.append(i)"
   ]
  }
 ],
 "metadata": {
  "kernelspec": {
   "display_name": "Python (tensorflow-gpu)",
   "language": "python",
   "name": "tensorflow-gpu"
  },
  "language_info": {
   "codemirror_mode": {
    "name": "ipython",
    "version": 3
   },
   "file_extension": ".py",
   "mimetype": "text/x-python",
   "name": "python",
   "nbconvert_exporter": "python",
   "pygments_lexer": "ipython3",
   "version": "3.7.6"
  }
 },
 "nbformat": 4,
 "nbformat_minor": 4
}
