{
 "cells": [
  {
   "cell_type": "code",
   "execution_count": 1,
   "metadata": {},
   "outputs": [],
   "source": [
    "import pandas as pd\n",
    "import os, shutil\n",
    "import cv2\n",
    "import time\n",
    "import multiprocessing as mp\n",
    "import preprossing\n",
    "import pickle\n",
    "import gc\n",
    "base_dir = 'D:\\Final\\code\\LAB\\keras\\Distracted Driver Detection\\imgs'"
   ]
  },
  {
   "cell_type": "code",
   "execution_count": 2,
   "metadata": {},
   "outputs": [
    {
     "data": {
      "text/plain": [
       "79726"
      ]
     },
     "execution_count": 2,
     "metadata": {},
     "output_type": "execute_result"
    }
   ],
   "source": [
    "imgs = os.listdir(base_dir+\"/test\")\n",
    "len(imgs)"
   ]
  },
  {
   "cell_type": "code",
   "execution_count": 3,
   "metadata": {},
   "outputs": [],
   "source": [
    "split_list = []\n",
    "split_list = [(len(imgs)//10)*x for x in range(0,10)]\n",
    "split_list.append(len(imgs))"
   ]
  },
  {
   "cell_type": "code",
   "execution_count": 4,
   "metadata": {},
   "outputs": [
    {
     "data": {
      "text/plain": [
       "[0, 7972, 15944, 23916, 31888, 39860, 47832, 55804, 63776, 71748, 79726]"
      ]
     },
     "execution_count": 4,
     "metadata": {},
     "output_type": "execute_result"
    }
   ],
   "source": [
    "split_list"
   ]
  },
  {
   "cell_type": "code",
   "execution_count": 5,
   "metadata": {},
   "outputs": [
    {
     "name": "stdout",
     "output_type": "stream",
     "text": [
      "0%\n",
      "10%\n",
      "20%\n",
      "30%\n",
      "40%\n",
      "50%\n",
      "60%\n",
      "70%\n",
      "80%\n",
      "90%\n",
      "100%\n"
     ]
    }
   ],
   "source": [
    "for i in range(0,len(split_list)-1):\n",
    "    image = []\n",
    "    print('{}%'.format(i*10))\n",
    "    with open('image_data{}.pickle'.format(i),'wb') as f:\n",
    "        for j in range(split_list[i],split_list[i+1]):\n",
    "            img_path = base_dir+\"/test/\"+imgs[j]\n",
    "            img = cv2.imread(img_path)\n",
    "            img = img[:,120:-30]\n",
    "            img = cv2.resize(img,(140,140))\n",
    "            image.append([imgs[j],img])\n",
    "        pickle.dump(image,f)\n",
    "        f.close()\n",
    "    del image\n",
    "    gc.collect()\n",
    "\n",
    "print('{}%'.format(100))"
   ]
  },
  {
   "cell_type": "code",
   "execution_count": null,
   "metadata": {},
   "outputs": [],
   "source": [
    "with open('image_data0.pickle','rb') as f:\n",
    "    a = pickle.load(f)"
   ]
  },
  {
   "cell_type": "code",
   "execution_count": null,
   "metadata": {},
   "outputs": [],
   "source": [
    "for i in a:\n",
    "    print(i[0])\n",
    "    print(i[1].shape)"
   ]
  },
  {
   "cell_type": "code",
   "execution_count": null,
   "metadata": {},
   "outputs": [],
   "source": []
  }
 ],
 "metadata": {
  "kernelspec": {
   "display_name": "Python (tensorflow-gpu)",
   "language": "python",
   "name": "tensorflow-gpu"
  },
  "language_info": {
   "codemirror_mode": {
    "name": "ipython",
    "version": 3
   },
   "file_extension": ".py",
   "mimetype": "text/x-python",
   "name": "python",
   "nbconvert_exporter": "python",
   "pygments_lexer": "ipython3",
   "version": "3.7.6"
  }
 },
 "nbformat": 4,
 "nbformat_minor": 4
}
