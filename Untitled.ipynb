{
 "cells": [
  {
   "cell_type": "code",
   "execution_count": 1,
   "metadata": {},
   "outputs": [
    {
     "name": "stdout",
     "output_type": "stream",
     "text": [
      "  subject classname            img\n",
      "0    p002        c0  img_44733.jpg\n",
      "1    p002        c0  img_72999.jpg\n",
      "2    p002        c0  img_25094.jpg\n",
      "3    p002        c0  img_69092.jpg\n",
      "4    p002        c0  img_92629.jpg\n"
     ]
    }
   ],
   "source": [
    "import pandas as pd\n",
    "import os, shutil\n",
    "import cv2\n",
    "base_dir = 'D:\\Final\\code\\LAB\\keras\\Distracted Driver Detection\\imgs'\n",
    "\n",
    "driver_details = pd.read_csv('driver_imgs_list.csv',na_values='na')\n",
    "print(driver_details.head())"
   ]
  },
  {
   "cell_type": "code",
   "execution_count": null,
   "metadata": {},
   "outputs": [],
   "source": [
    "train_image = []\n",
    "image_label = []\n",
    "\n",
    "\n",
    "for i in range(10):\n",
    "    print('folder C',i)\n",
    "    imgs = os.listdir(base_dir+\"/train/c\"+str(i))\n",
    "    for j in range(len(imgs)):\n",
    "        img_name = base_dir+\"/train/c\"+str(i)+\"/\"+imgs[j]\n",
    "        img = cv2.imread(img_name)\n",
    "        img = img[:,120:-30] # Cropping:去掉部分左邊和右邊一點點\n",
    "        img = cv2.resize(img,(140,140)) # Resizing\n",
    "        label = i\n",
    "        driver = str(driver_details[driver_details['img'] == imgs[j]]['subject'].values[0])\n",
    "        train_image.append([img,label,driver])\n",
    "        image_label.append(i)"
   ]
  },
  {
   "cell_type": "code",
   "execution_count": 4,
   "metadata": {},
   "outputs": [],
   "source": [
    "imgs = os.listdir(base_dir+\"/train/c0\")\n",
    "img_name = base_dir+\"/train/c0/\"+imgs[0]"
   ]
  },
  {
   "cell_type": "code",
   "execution_count": 5,
   "metadata": {},
   "outputs": [],
   "source": [
    "img = cv2.imread(img_name)\n",
    "cv2.imshow('a',img)\n",
    "\n",
    "cv2.waitKey(0)\n",
    "cv2.destroyAllWindows()"
   ]
  },
  {
   "cell_type": "code",
   "execution_count": 6,
   "metadata": {},
   "outputs": [],
   "source": [
    "img = img[:,120:-30]\n",
    "\n",
    "cv2.imshow('a',img)\n",
    "\n",
    "cv2.waitKey(0)\n",
    "cv2.destroyAllWindows()"
   ]
  },
  {
   "cell_type": "code",
   "execution_count": null,
   "metadata": {},
   "outputs": [],
   "source": [
    "img = cv2.resize(img,(140,140))\n",
    "\n",
    "cv2.imshow('a',img)\n",
    "\n",
    "cv2.waitKey(0)\n",
    "cv2.destroyAllWindows()"
   ]
  },
  {
   "cell_type": "code",
   "execution_count": null,
   "metadata": {},
   "outputs": [],
   "source": []
  }
 ],
 "metadata": {
  "kernelspec": {
   "display_name": "Python (tensorflow-gpu)",
   "language": "python",
   "name": "tensorflow-gpu"
  },
  "language_info": {
   "codemirror_mode": {
    "name": "ipython",
    "version": 3
   },
   "file_extension": ".py",
   "mimetype": "text/x-python",
   "name": "python",
   "nbconvert_exporter": "python",
   "pygments_lexer": "ipython3",
   "version": "3.7.6"
  }
 },
 "nbformat": 4,
 "nbformat_minor": 4
}
